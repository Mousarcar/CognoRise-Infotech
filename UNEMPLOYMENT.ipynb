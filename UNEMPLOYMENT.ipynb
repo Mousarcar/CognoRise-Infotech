{
 "cells": [
  {
   "cell_type": "markdown",
   "id": "8d09829b",
   "metadata": {},
   "source": [
    "# Analyzing The Unemployment Rate in India During Covid-19 Period"
   ]
  },
  {
   "cell_type": "markdown",
   "id": "5ba0daa1",
   "metadata": {},
   "source": [
    "**Name:** Mou Sarkar"
   ]
  },
  {
   "cell_type": "markdown",
   "id": "cb6d9b06",
   "metadata": {},
   "source": [
    "**Organization:** CognoRise InfoTech"
   ]
  },
  {
   "cell_type": "markdown",
   "id": "c5cccabb",
   "metadata": {},
   "source": [
    "## Introduction"
   ]
  },
  {
   "cell_type": "markdown",
   "id": "7adb412c",
   "metadata": {},
   "source": [
    "* During the Covid-19 period, India faced a significant rise in unemployment rates due to lockdowns and economic disruptions. Many businesses closed, and millions of people lost their jobs, leading to a sharp increase in the number of unemployed individuals. The pandemic's impact varied across different regions, with some areas experiencing higher unemployment rates than others. Analyzing these trends helps understand the economic challenges faced by the country during this crisis."
   ]
  },
  {
   "cell_type": "markdown",
   "id": "fb132321-0e70-423d-998a-8410024da4c2",
   "metadata": {},
   "source": [
    "## Problem Statement\n",
    "* Here we have to Analyze the unemployment trends in India, focusing on the Covid-19 period, regional differences, rural vs. urban rates, and changes in labor participation and employment figures. "
   ]
  },
  {
   "cell_type": "markdown",
   "id": "b57d8a13",
   "metadata": {},
   "source": [
    "## Source of Dataset\n",
    "* We collected the dataset from [Kaggle](https://www.kaggle.com/datasets/gokulrajkmv/unemployment-in-india)."
   ]
  },
  {
   "cell_type": "markdown",
   "id": "07cc84e5",
   "metadata": {},
   "source": [
    "## Size of Dataset\n",
    "* Size of the dataset is 47KB."
   ]
  },
  {
   "cell_type": "markdown",
   "id": "b73504b2",
   "metadata": {},
   "source": [
    "## About the Dataset"
   ]
  },
  {
   "cell_type": "markdown",
   "id": "510fda04",
   "metadata": {},
   "source": [
    "* The \"unemployment of india.csv\" dataset provides comprehensive data on unemployment trends across various regions in India during the period from May 2019 to June 2020.\n",
    "* This dataset includes crucial economic indicators such as the Estimated Unemployment Rate (%), Estimated Employed, and Estimated Labour Participation Rate (%)."
   ]
  },
  {
   "cell_type": "markdown",
   "id": "052ba36c",
   "metadata": {},
   "source": [
    "## Libraries Used\n",
    "* Numpy\n",
    "* Pandas\n",
    "* Matplotlib\n",
    "* Seaborn"
   ]
  },
  {
   "cell_type": "markdown",
   "id": "9a137003-8937-4b01-91ae-9711304db597",
   "metadata": {},
   "source": [
    "## Overview of the Features\n",
    "* Region = states in India\n",
    "* Date = date which the unemployment rate observed\n",
    "* Frequency = measuring frequency (Monthly)\n",
    "* Estimated Unemployment Rate (%) = percentage of people unemployed in each States of India\n",
    "* Estimated Employed = The estimated number of employed .\n",
    "* Estimated Labour Participation Rate (%)= The labor force participation rate is a measure of an economy's active workforce.\n",
    "* Area= Employment and unemployment rates in Urban and rural areas."
   ]
  },
  {
   "cell_type": "markdown",
   "id": "891eb0c7",
   "metadata": {},
   "source": [
    "## Data Preprocessing"
   ]
  },
  {
   "cell_type": "code",
   "execution_count": 1,
   "id": "dfc1fb61-28b5-4517-a90e-a102877f4c3c",
   "metadata": {},
   "outputs": [],
   "source": [
    "### Importing required libraries\n",
    "import pandas as pd\n",
    "import numpy as np\n",
    "import matplotlib.pyplot as plt\n",
    "import seaborn as sns"
   ]
  },
  {
   "cell_type": "code",
   "execution_count": 2,
   "id": "4449e664-2b1c-48d9-b042-a103f2373bb9",
   "metadata": {},
   "outputs": [],
   "source": [
    "# Loading the dataset\n",
    "df= pd.read_csv(\"Unemployment in India.csv\")"
   ]
  },
  {
   "cell_type": "code",
   "execution_count": 3,
   "id": "8ab1eb01-ffca-484e-8770-8c8b78d5f13a",
   "metadata": {},
   "outputs": [
    {
     "data": {
      "text/html": [
       "<div>\n",
       "<style scoped>\n",
       "    .dataframe tbody tr th:only-of-type {\n",
       "        vertical-align: middle;\n",
       "    }\n",
       "\n",
       "    .dataframe tbody tr th {\n",
       "        vertical-align: top;\n",
       "    }\n",
       "\n",
       "    .dataframe thead th {\n",
       "        text-align: right;\n",
       "    }\n",
       "</style>\n",
       "<table border=\"1\" class=\"dataframe\">\n",
       "  <thead>\n",
       "    <tr style=\"text-align: right;\">\n",
       "      <th></th>\n",
       "      <th>Region</th>\n",
       "      <th>Date</th>\n",
       "      <th>Frequency</th>\n",
       "      <th>Estimated Unemployment Rate (%)</th>\n",
       "      <th>Estimated Employed</th>\n",
       "      <th>Estimated Labour Participation Rate (%)</th>\n",
       "      <th>Area</th>\n",
       "    </tr>\n",
       "  </thead>\n",
       "  <tbody>\n",
       "    <tr>\n",
       "      <th>0</th>\n",
       "      <td>Andhra Pradesh</td>\n",
       "      <td>31-05-2019</td>\n",
       "      <td>Monthly</td>\n",
       "      <td>3.65</td>\n",
       "      <td>11999139.0</td>\n",
       "      <td>43.24</td>\n",
       "      <td>Rural</td>\n",
       "    </tr>\n",
       "    <tr>\n",
       "      <th>1</th>\n",
       "      <td>Andhra Pradesh</td>\n",
       "      <td>30-06-2019</td>\n",
       "      <td>Monthly</td>\n",
       "      <td>3.05</td>\n",
       "      <td>11755881.0</td>\n",
       "      <td>42.05</td>\n",
       "      <td>Rural</td>\n",
       "    </tr>\n",
       "    <tr>\n",
       "      <th>2</th>\n",
       "      <td>Andhra Pradesh</td>\n",
       "      <td>31-07-2019</td>\n",
       "      <td>Monthly</td>\n",
       "      <td>3.75</td>\n",
       "      <td>12086707.0</td>\n",
       "      <td>43.50</td>\n",
       "      <td>Rural</td>\n",
       "    </tr>\n",
       "    <tr>\n",
       "      <th>3</th>\n",
       "      <td>Andhra Pradesh</td>\n",
       "      <td>31-08-2019</td>\n",
       "      <td>Monthly</td>\n",
       "      <td>3.32</td>\n",
       "      <td>12285693.0</td>\n",
       "      <td>43.97</td>\n",
       "      <td>Rural</td>\n",
       "    </tr>\n",
       "    <tr>\n",
       "      <th>4</th>\n",
       "      <td>Andhra Pradesh</td>\n",
       "      <td>30-09-2019</td>\n",
       "      <td>Monthly</td>\n",
       "      <td>5.17</td>\n",
       "      <td>12256762.0</td>\n",
       "      <td>44.68</td>\n",
       "      <td>Rural</td>\n",
       "    </tr>\n",
       "  </tbody>\n",
       "</table>\n",
       "</div>"
      ],
      "text/plain": [
       "           Region         Date  Frequency   Estimated Unemployment Rate (%)  \\\n",
       "0  Andhra Pradesh   31-05-2019    Monthly                              3.65   \n",
       "1  Andhra Pradesh   30-06-2019    Monthly                              3.05   \n",
       "2  Andhra Pradesh   31-07-2019    Monthly                              3.75   \n",
       "3  Andhra Pradesh   31-08-2019    Monthly                              3.32   \n",
       "4  Andhra Pradesh   30-09-2019    Monthly                              5.17   \n",
       "\n",
       "    Estimated Employed   Estimated Labour Participation Rate (%)   Area  \n",
       "0           11999139.0                                     43.24  Rural  \n",
       "1           11755881.0                                     42.05  Rural  \n",
       "2           12086707.0                                     43.50  Rural  \n",
       "3           12285693.0                                     43.97  Rural  \n",
       "4           12256762.0                                     44.68  Rural  "
      ]
     },
     "execution_count": 3,
     "metadata": {},
     "output_type": "execute_result"
    }
   ],
   "source": [
    "# The first few rows of the dataframe\n",
    "df.head()"
   ]
  },
  {
   "cell_type": "code",
   "execution_count": 4,
   "id": "cf69a72f-3a9f-46cd-8048-b937f591808c",
   "metadata": {},
   "outputs": [
    {
     "data": {
      "text/html": [
       "<div>\n",
       "<style scoped>\n",
       "    .dataframe tbody tr th:only-of-type {\n",
       "        vertical-align: middle;\n",
       "    }\n",
       "\n",
       "    .dataframe tbody tr th {\n",
       "        vertical-align: top;\n",
       "    }\n",
       "\n",
       "    .dataframe thead th {\n",
       "        text-align: right;\n",
       "    }\n",
       "</style>\n",
       "<table border=\"1\" class=\"dataframe\">\n",
       "  <thead>\n",
       "    <tr style=\"text-align: right;\">\n",
       "      <th></th>\n",
       "      <th>Region</th>\n",
       "      <th>Date</th>\n",
       "      <th>Frequency</th>\n",
       "      <th>Estimated Unemployment Rate (%)</th>\n",
       "      <th>Estimated Employed</th>\n",
       "      <th>Estimated Labour Participation Rate (%)</th>\n",
       "      <th>Area</th>\n",
       "    </tr>\n",
       "  </thead>\n",
       "  <tbody>\n",
       "    <tr>\n",
       "      <th>763</th>\n",
       "      <td>NaN</td>\n",
       "      <td>NaN</td>\n",
       "      <td>NaN</td>\n",
       "      <td>NaN</td>\n",
       "      <td>NaN</td>\n",
       "      <td>NaN</td>\n",
       "      <td>NaN</td>\n",
       "    </tr>\n",
       "    <tr>\n",
       "      <th>764</th>\n",
       "      <td>NaN</td>\n",
       "      <td>NaN</td>\n",
       "      <td>NaN</td>\n",
       "      <td>NaN</td>\n",
       "      <td>NaN</td>\n",
       "      <td>NaN</td>\n",
       "      <td>NaN</td>\n",
       "    </tr>\n",
       "    <tr>\n",
       "      <th>765</th>\n",
       "      <td>NaN</td>\n",
       "      <td>NaN</td>\n",
       "      <td>NaN</td>\n",
       "      <td>NaN</td>\n",
       "      <td>NaN</td>\n",
       "      <td>NaN</td>\n",
       "      <td>NaN</td>\n",
       "    </tr>\n",
       "    <tr>\n",
       "      <th>766</th>\n",
       "      <td>NaN</td>\n",
       "      <td>NaN</td>\n",
       "      <td>NaN</td>\n",
       "      <td>NaN</td>\n",
       "      <td>NaN</td>\n",
       "      <td>NaN</td>\n",
       "      <td>NaN</td>\n",
       "    </tr>\n",
       "    <tr>\n",
       "      <th>767</th>\n",
       "      <td>NaN</td>\n",
       "      <td>NaN</td>\n",
       "      <td>NaN</td>\n",
       "      <td>NaN</td>\n",
       "      <td>NaN</td>\n",
       "      <td>NaN</td>\n",
       "      <td>NaN</td>\n",
       "    </tr>\n",
       "  </tbody>\n",
       "</table>\n",
       "</div>"
      ],
      "text/plain": [
       "    Region  Date  Frequency   Estimated Unemployment Rate (%)  \\\n",
       "763    NaN   NaN        NaN                               NaN   \n",
       "764    NaN   NaN        NaN                               NaN   \n",
       "765    NaN   NaN        NaN                               NaN   \n",
       "766    NaN   NaN        NaN                               NaN   \n",
       "767    NaN   NaN        NaN                               NaN   \n",
       "\n",
       "      Estimated Employed   Estimated Labour Participation Rate (%) Area  \n",
       "763                  NaN                                       NaN  NaN  \n",
       "764                  NaN                                       NaN  NaN  \n",
       "765                  NaN                                       NaN  NaN  \n",
       "766                  NaN                                       NaN  NaN  \n",
       "767                  NaN                                       NaN  NaN  "
      ]
     },
     "execution_count": 4,
     "metadata": {},
     "output_type": "execute_result"
    }
   ],
   "source": [
    "# The last few rows of the dataframe\n",
    "df.tail()"
   ]
  },
  {
   "cell_type": "code",
   "execution_count": 5,
   "id": "f12b950e-9da0-4afd-970e-7701bc923503",
   "metadata": {},
   "outputs": [
    {
     "data": {
      "text/html": [
       "<div>\n",
       "<style scoped>\n",
       "    .dataframe tbody tr th:only-of-type {\n",
       "        vertical-align: middle;\n",
       "    }\n",
       "\n",
       "    .dataframe tbody tr th {\n",
       "        vertical-align: top;\n",
       "    }\n",
       "\n",
       "    .dataframe thead th {\n",
       "        text-align: right;\n",
       "    }\n",
       "</style>\n",
       "<table border=\"1\" class=\"dataframe\">\n",
       "  <thead>\n",
       "    <tr style=\"text-align: right;\">\n",
       "      <th></th>\n",
       "      <th>Region</th>\n",
       "      <th>Date</th>\n",
       "      <th>Frequency</th>\n",
       "      <th>Estimated Unemployment Rate (%)</th>\n",
       "      <th>Estimated Employed</th>\n",
       "      <th>Estimated Labour Participation Rate (%)</th>\n",
       "      <th>Area</th>\n",
       "    </tr>\n",
       "  </thead>\n",
       "  <tbody>\n",
       "    <tr>\n",
       "      <th>440</th>\n",
       "      <td>Chhattisgarh</td>\n",
       "      <td>30-06-2020</td>\n",
       "      <td>Monthly</td>\n",
       "      <td>27.07</td>\n",
       "      <td>1602231.0</td>\n",
       "      <td>39.41</td>\n",
       "      <td>Urban</td>\n",
       "    </tr>\n",
       "    <tr>\n",
       "      <th>676</th>\n",
       "      <td>Tamil Nadu</td>\n",
       "      <td>30-11-2019</td>\n",
       "      <td>Monthly</td>\n",
       "      <td>2.65</td>\n",
       "      <td>11729952.0</td>\n",
       "      <td>37.38</td>\n",
       "      <td>Urban</td>\n",
       "    </tr>\n",
       "    <tr>\n",
       "      <th>184</th>\n",
       "      <td>Madhya Pradesh</td>\n",
       "      <td>29-02-2020</td>\n",
       "      <td>Monthly</td>\n",
       "      <td>4.42</td>\n",
       "      <td>16178044.0</td>\n",
       "      <td>39.57</td>\n",
       "      <td>Rural</td>\n",
       "    </tr>\n",
       "  </tbody>\n",
       "</table>\n",
       "</div>"
      ],
      "text/plain": [
       "             Region         Date  Frequency   Estimated Unemployment Rate (%)  \\\n",
       "440    Chhattisgarh   30-06-2020    Monthly                             27.07   \n",
       "676      Tamil Nadu   30-11-2019    Monthly                              2.65   \n",
       "184  Madhya Pradesh   29-02-2020    Monthly                              4.42   \n",
       "\n",
       "      Estimated Employed   Estimated Labour Participation Rate (%)   Area  \n",
       "440            1602231.0                                     39.41  Urban  \n",
       "676           11729952.0                                     37.38  Urban  \n",
       "184           16178044.0                                     39.57  Rural  "
      ]
     },
     "execution_count": 5,
     "metadata": {},
     "output_type": "execute_result"
    }
   ],
   "source": [
    "# Random sample of 3 rows from the DataFrame\n",
    "df.sample(3)"
   ]
  },
  {
   "cell_type": "code",
   "execution_count": 6,
   "id": "d5e0dd30-0935-4f7c-a46f-d08f56579548",
   "metadata": {},
   "outputs": [
    {
     "data": {
      "text/plain": [
       "(768, 7)"
      ]
     },
     "execution_count": 6,
     "metadata": {},
     "output_type": "execute_result"
    }
   ],
   "source": [
    "# Shape of the data\n",
    "df.shape"
   ]
  },
  {
   "cell_type": "code",
   "execution_count": 7,
   "id": "4bd73777-871f-4fb9-9613-07f97efb6849",
   "metadata": {},
   "outputs": [
    {
     "data": {
      "text/plain": [
       "5376"
      ]
     },
     "execution_count": 7,
     "metadata": {},
     "output_type": "execute_result"
    }
   ],
   "source": [
    "# Total size of the data\n",
    "df.size"
   ]
  },
  {
   "cell_type": "code",
   "execution_count": 8,
   "id": "74af6e62-37ab-49cc-aac5-8b35990a44de",
   "metadata": {},
   "outputs": [
    {
     "name": "stdout",
     "output_type": "stream",
     "text": [
      "<class 'pandas.core.frame.DataFrame'>\n",
      "RangeIndex: 768 entries, 0 to 767\n",
      "Data columns (total 7 columns):\n",
      " #   Column                                    Non-Null Count  Dtype  \n",
      "---  ------                                    --------------  -----  \n",
      " 0   Region                                    740 non-null    object \n",
      " 1    Date                                     740 non-null    object \n",
      " 2    Frequency                                740 non-null    object \n",
      " 3    Estimated Unemployment Rate (%)          740 non-null    float64\n",
      " 4    Estimated Employed                       740 non-null    float64\n",
      " 5    Estimated Labour Participation Rate (%)  740 non-null    float64\n",
      " 6   Area                                      740 non-null    object \n",
      "dtypes: float64(3), object(4)\n",
      "memory usage: 42.1+ KB\n"
     ]
    }
   ],
   "source": [
    "# Basic information about the data\n",
    "df.info()"
   ]
  },
  {
   "cell_type": "code",
   "execution_count": 9,
   "id": "aeeafb92-6f47-4f32-9f2e-99d6350b41e7",
   "metadata": {},
   "outputs": [
    {
     "data": {
      "text/html": [
       "<div>\n",
       "<style scoped>\n",
       "    .dataframe tbody tr th:only-of-type {\n",
       "        vertical-align: middle;\n",
       "    }\n",
       "\n",
       "    .dataframe tbody tr th {\n",
       "        vertical-align: top;\n",
       "    }\n",
       "\n",
       "    .dataframe thead th {\n",
       "        text-align: right;\n",
       "    }\n",
       "</style>\n",
       "<table border=\"1\" class=\"dataframe\">\n",
       "  <thead>\n",
       "    <tr style=\"text-align: right;\">\n",
       "      <th></th>\n",
       "      <th>Estimated Unemployment Rate (%)</th>\n",
       "      <th>Estimated Employed</th>\n",
       "      <th>Estimated Labour Participation Rate (%)</th>\n",
       "    </tr>\n",
       "  </thead>\n",
       "  <tbody>\n",
       "    <tr>\n",
       "      <th>count</th>\n",
       "      <td>740.000000</td>\n",
       "      <td>7.400000e+02</td>\n",
       "      <td>740.000000</td>\n",
       "    </tr>\n",
       "    <tr>\n",
       "      <th>mean</th>\n",
       "      <td>11.787946</td>\n",
       "      <td>7.204460e+06</td>\n",
       "      <td>42.630122</td>\n",
       "    </tr>\n",
       "    <tr>\n",
       "      <th>std</th>\n",
       "      <td>10.721298</td>\n",
       "      <td>8.087988e+06</td>\n",
       "      <td>8.111094</td>\n",
       "    </tr>\n",
       "    <tr>\n",
       "      <th>min</th>\n",
       "      <td>0.000000</td>\n",
       "      <td>4.942000e+04</td>\n",
       "      <td>13.330000</td>\n",
       "    </tr>\n",
       "    <tr>\n",
       "      <th>25%</th>\n",
       "      <td>4.657500</td>\n",
       "      <td>1.190404e+06</td>\n",
       "      <td>38.062500</td>\n",
       "    </tr>\n",
       "    <tr>\n",
       "      <th>50%</th>\n",
       "      <td>8.350000</td>\n",
       "      <td>4.744178e+06</td>\n",
       "      <td>41.160000</td>\n",
       "    </tr>\n",
       "    <tr>\n",
       "      <th>75%</th>\n",
       "      <td>15.887500</td>\n",
       "      <td>1.127549e+07</td>\n",
       "      <td>45.505000</td>\n",
       "    </tr>\n",
       "    <tr>\n",
       "      <th>max</th>\n",
       "      <td>76.740000</td>\n",
       "      <td>4.577751e+07</td>\n",
       "      <td>72.570000</td>\n",
       "    </tr>\n",
       "  </tbody>\n",
       "</table>\n",
       "</div>"
      ],
      "text/plain": [
       "        Estimated Unemployment Rate (%)   Estimated Employed  \\\n",
       "count                        740.000000         7.400000e+02   \n",
       "mean                          11.787946         7.204460e+06   \n",
       "std                           10.721298         8.087988e+06   \n",
       "min                            0.000000         4.942000e+04   \n",
       "25%                            4.657500         1.190404e+06   \n",
       "50%                            8.350000         4.744178e+06   \n",
       "75%                           15.887500         1.127549e+07   \n",
       "max                           76.740000         4.577751e+07   \n",
       "\n",
       "        Estimated Labour Participation Rate (%)  \n",
       "count                                740.000000  \n",
       "mean                                  42.630122  \n",
       "std                                    8.111094  \n",
       "min                                   13.330000  \n",
       "25%                                   38.062500  \n",
       "50%                                   41.160000  \n",
       "75%                                   45.505000  \n",
       "max                                   72.570000  "
      ]
     },
     "execution_count": 9,
     "metadata": {},
     "output_type": "execute_result"
    }
   ],
   "source": [
    "# the descriptive statistics of the data\n",
    "df.describe()"
   ]
  },
  {
   "cell_type": "code",
   "execution_count": 10,
   "id": "f4f3da11-b715-4163-a211-1c3ab9c9d2be",
   "metadata": {},
   "outputs": [
    {
     "data": {
      "text/plain": [
       "Region                                      3.645833\n",
       " Date                                       3.645833\n",
       " Frequency                                  3.645833\n",
       " Estimated Unemployment Rate (%)            3.645833\n",
       " Estimated Employed                         3.645833\n",
       " Estimated Labour Participation Rate (%)    3.645833\n",
       "Area                                        3.645833\n",
       "dtype: float64"
      ]
     },
     "execution_count": 10,
     "metadata": {},
     "output_type": "execute_result"
    }
   ],
   "source": [
    "# checking null values \n",
    "df.isna().sum()/len(df)*100"
   ]
  },
  {
   "cell_type": "code",
   "execution_count": 11,
   "id": "32f0e063",
   "metadata": {},
   "outputs": [],
   "source": [
    "# Handling missing values"
   ]
  },
  {
   "cell_type": "code",
   "execution_count": 12,
   "id": "114268a2-1e68-417b-90f9-5e17ce09569f",
   "metadata": {},
   "outputs": [],
   "source": [
    "# drop missing value\n",
    "df.dropna(inplace=True)"
   ]
  },
  {
   "cell_type": "code",
   "execution_count": 13,
   "id": "551f5b7f-8c68-4fa9-ae0d-5a4794001d04",
   "metadata": {},
   "outputs": [
    {
     "data": {
      "text/plain": [
       "Region                                      0.0\n",
       " Date                                       0.0\n",
       " Frequency                                  0.0\n",
       " Estimated Unemployment Rate (%)            0.0\n",
       " Estimated Employed                         0.0\n",
       " Estimated Labour Participation Rate (%)    0.0\n",
       "Area                                        0.0\n",
       "dtype: float64"
      ]
     },
     "execution_count": 13,
     "metadata": {},
     "output_type": "execute_result"
    }
   ],
   "source": [
    "#checking null values after removing missing value\n",
    "df.isna().sum()/len(df)*100"
   ]
  },
  {
   "cell_type": "code",
   "execution_count": 14,
   "id": "5f066b21-75d3-42cc-bfd4-34b99a4f7793",
   "metadata": {},
   "outputs": [
    {
     "data": {
      "text/plain": [
       "0"
      ]
     },
     "execution_count": 14,
     "metadata": {},
     "output_type": "execute_result"
    }
   ],
   "source": [
    "# Checking duplicate values\n",
    "df.duplicated().sum()"
   ]
  },
  {
   "cell_type": "markdown",
   "id": "8d792025",
   "metadata": {},
   "source": [
    "* There are no duplicate values in this dataset."
   ]
  },
  {
   "cell_type": "code",
   "execution_count": 15,
   "id": "f4892ae8-fba4-4b0d-9319-5e33a57631db",
   "metadata": {},
   "outputs": [
    {
     "data": {
      "text/plain": [
       "Region                                       28\n",
       " Date                                        14\n",
       " Frequency                                    2\n",
       " Estimated Unemployment Rate (%)            624\n",
       " Estimated Employed                         740\n",
       " Estimated Labour Participation Rate (%)    626\n",
       "Area                                          2\n",
       "dtype: int64"
      ]
     },
     "execution_count": 15,
     "metadata": {},
     "output_type": "execute_result"
    }
   ],
   "source": [
    "# Checking number of unique values of each  columns\n",
    "df.nunique()"
   ]
  },
  {
   "cell_type": "code",
   "execution_count": 16,
   "id": "5ba398b2-4217-421c-ae60-8b3d8163205c",
   "metadata": {},
   "outputs": [],
   "source": [
    " # Find that the column name has extra spaces or a different format, rename it to the correct name.\n",
    "df.rename(columns=lambda x: x.strip(), inplace=True)"
   ]
  },
  {
   "cell_type": "code",
   "execution_count": 17,
   "id": "a8567303-70be-431f-9188-b87ccd5f4cdf",
   "metadata": {},
   "outputs": [],
   "source": [
    "# Rename the columns for easier access\n",
    "df.rename(columns={\"Frequency\":\"Fqcy\",'Estimated Unemployment Rate (%)':'Est_Unemp_Rate(%)',\n",
    "                   'Estimated Labour Participation Rate (%)':'Est_labour_rate(%)','Estimated Employed':'Est_Emp'},inplace=True)"
   ]
  },
  {
   "cell_type": "code",
   "execution_count": 18,
   "id": "982ddffa-c278-4b55-a164-77f1e96c2cd8",
   "metadata": {},
   "outputs": [
    {
     "data": {
      "text/html": [
       "<div>\n",
       "<style scoped>\n",
       "    .dataframe tbody tr th:only-of-type {\n",
       "        vertical-align: middle;\n",
       "    }\n",
       "\n",
       "    .dataframe tbody tr th {\n",
       "        vertical-align: top;\n",
       "    }\n",
       "\n",
       "    .dataframe thead th {\n",
       "        text-align: right;\n",
       "    }\n",
       "</style>\n",
       "<table border=\"1\" class=\"dataframe\">\n",
       "  <thead>\n",
       "    <tr style=\"text-align: right;\">\n",
       "      <th></th>\n",
       "      <th>Region</th>\n",
       "      <th>Date</th>\n",
       "      <th>Fqcy</th>\n",
       "      <th>Est_Unemp_Rate(%)</th>\n",
       "      <th>Est_Emp</th>\n",
       "      <th>Est_labour_rate(%)</th>\n",
       "      <th>Area</th>\n",
       "    </tr>\n",
       "  </thead>\n",
       "  <tbody>\n",
       "    <tr>\n",
       "      <th>0</th>\n",
       "      <td>Andhra Pradesh</td>\n",
       "      <td>31-05-2019</td>\n",
       "      <td>Monthly</td>\n",
       "      <td>3.65</td>\n",
       "      <td>12.00</td>\n",
       "      <td>43.24</td>\n",
       "      <td>Rural</td>\n",
       "    </tr>\n",
       "    <tr>\n",
       "      <th>1</th>\n",
       "      <td>Andhra Pradesh</td>\n",
       "      <td>30-06-2019</td>\n",
       "      <td>Monthly</td>\n",
       "      <td>3.05</td>\n",
       "      <td>11.76</td>\n",
       "      <td>42.05</td>\n",
       "      <td>Rural</td>\n",
       "    </tr>\n",
       "    <tr>\n",
       "      <th>2</th>\n",
       "      <td>Andhra Pradesh</td>\n",
       "      <td>31-07-2019</td>\n",
       "      <td>Monthly</td>\n",
       "      <td>3.75</td>\n",
       "      <td>12.09</td>\n",
       "      <td>43.50</td>\n",
       "      <td>Rural</td>\n",
       "    </tr>\n",
       "    <tr>\n",
       "      <th>3</th>\n",
       "      <td>Andhra Pradesh</td>\n",
       "      <td>31-08-2019</td>\n",
       "      <td>Monthly</td>\n",
       "      <td>3.32</td>\n",
       "      <td>12.29</td>\n",
       "      <td>43.97</td>\n",
       "      <td>Rural</td>\n",
       "    </tr>\n",
       "    <tr>\n",
       "      <th>4</th>\n",
       "      <td>Andhra Pradesh</td>\n",
       "      <td>30-09-2019</td>\n",
       "      <td>Monthly</td>\n",
       "      <td>5.17</td>\n",
       "      <td>12.26</td>\n",
       "      <td>44.68</td>\n",
       "      <td>Rural</td>\n",
       "    </tr>\n",
       "  </tbody>\n",
       "</table>\n",
       "</div>"
      ],
      "text/plain": [
       "           Region         Date      Fqcy  Est_Unemp_Rate(%)  Est_Emp  \\\n",
       "0  Andhra Pradesh   31-05-2019   Monthly               3.65    12.00   \n",
       "1  Andhra Pradesh   30-06-2019   Monthly               3.05    11.76   \n",
       "2  Andhra Pradesh   31-07-2019   Monthly               3.75    12.09   \n",
       "3  Andhra Pradesh   31-08-2019   Monthly               3.32    12.29   \n",
       "4  Andhra Pradesh   30-09-2019   Monthly               5.17    12.26   \n",
       "\n",
       "   Est_labour_rate(%)   Area  \n",
       "0               43.24  Rural  \n",
       "1               42.05  Rural  \n",
       "2               43.50  Rural  \n",
       "3               43.97  Rural  \n",
       "4               44.68  Rural  "
      ]
     },
     "execution_count": 18,
     "metadata": {},
     "output_type": "execute_result"
    }
   ],
   "source": [
    "#Convert the values in 'Est_Emp_Rate' column to millions\n",
    "df['Est_Emp'] = round(df['Est_Emp'] / 1000000, 2)\n",
    "df.head()"
   ]
  },
  {
   "cell_type": "code",
   "execution_count": 19,
   "id": "25dc830b-a583-4764-8997-a112fe436733",
   "metadata": {},
   "outputs": [],
   "source": [
    "# Checking number of unique values of categorical columns"
   ]
  },
  {
   "cell_type": "code",
   "execution_count": 20,
   "id": "1422a317-5766-4e6a-b895-5b840ca8f453",
   "metadata": {},
   "outputs": [
    {
     "data": {
      "text/plain": [
       "array(['Andhra Pradesh', 'Assam', 'Bihar', 'Chhattisgarh', 'Delhi', 'Goa',\n",
       "       'Gujarat', 'Haryana', 'Himachal Pradesh', 'Jammu & Kashmir',\n",
       "       'Jharkhand', 'Karnataka', 'Kerala', 'Madhya Pradesh',\n",
       "       'Maharashtra', 'Meghalaya', 'Odisha', 'Puducherry', 'Punjab',\n",
       "       'Rajasthan', 'Sikkim', 'Tamil Nadu', 'Telangana', 'Tripura',\n",
       "       'Uttar Pradesh', 'Uttarakhand', 'West Bengal', 'Chandigarh'],\n",
       "      dtype=object)"
      ]
     },
     "execution_count": 20,
     "metadata": {},
     "output_type": "execute_result"
    }
   ],
   "source": [
    "df['Region'].unique()"
   ]
  },
  {
   "cell_type": "code",
   "execution_count": 21,
   "id": "714d65fa-beb6-4a1e-8ff8-af0a1df48ce4",
   "metadata": {},
   "outputs": [
    {
     "data": {
      "text/plain": [
       "array(['Rural', 'Urban'], dtype=object)"
      ]
     },
     "execution_count": 21,
     "metadata": {},
     "output_type": "execute_result"
    }
   ],
   "source": [
    "df['Area'].unique()"
   ]
  },
  {
   "cell_type": "code",
   "execution_count": 22,
   "id": "00bdbcfa-9379-4628-b629-a4d90cc907fb",
   "metadata": {
    "tags": []
   },
   "outputs": [
    {
     "name": "stdout",
     "output_type": "stream",
     "text": [
      "[' Monthly' 'Monthly']\n"
     ]
    }
   ],
   "source": [
    "print(df['Fqcy'].unique())"
   ]
  },
  {
   "cell_type": "code",
   "execution_count": 23,
   "id": "457ef5cf-2935-4abc-94e8-1bb1e9a3ce47",
   "metadata": {},
   "outputs": [],
   "source": [
    "# Drop the 'Fqcy' column\n",
    "df.drop(['Fqcy'],axis=1,inplace=True)"
   ]
  },
  {
   "cell_type": "markdown",
   "id": "d5307b3d",
   "metadata": {},
   "source": [
    "* Dropped \" Fqcy\" column beacuse I did not need for the Analyze."
   ]
  },
  {
   "cell_type": "code",
   "execution_count": 24,
   "id": "71ce35d4-8dbe-4064-a5a5-0c8d8731de20",
   "metadata": {},
   "outputs": [],
   "source": [
    "# changing the dtype of 'Date' column\n",
    "df['Date']= pd.to_datetime(df['Date'])"
   ]
  },
  {
   "cell_type": "code",
   "execution_count": 25,
   "id": "a393abd3-3ce6-452f-b6d0-ff0b3e2f9580",
   "metadata": {},
   "outputs": [
    {
     "name": "stdout",
     "output_type": "stream",
     "text": [
      "<class 'pandas.core.frame.DataFrame'>\n",
      "Int64Index: 740 entries, 0 to 753\n",
      "Data columns (total 6 columns):\n",
      " #   Column              Non-Null Count  Dtype         \n",
      "---  ------              --------------  -----         \n",
      " 0   Region              740 non-null    object        \n",
      " 1   Date                740 non-null    datetime64[ns]\n",
      " 2   Est_Unemp_Rate(%)   740 non-null    float64       \n",
      " 3   Est_Emp             740 non-null    float64       \n",
      " 4   Est_labour_rate(%)  740 non-null    float64       \n",
      " 5   Area                740 non-null    object        \n",
      "dtypes: datetime64[ns](1), float64(3), object(2)\n",
      "memory usage: 40.5+ KB\n"
     ]
    }
   ],
   "source": [
    "df.info()"
   ]
  },
  {
   "cell_type": "code",
   "execution_count": 26,
   "id": "a8afa75f-2569-4b1e-80aa-b00b3c94dd5a",
   "metadata": {},
   "outputs": [
    {
     "data": {
      "text/html": [
       "<div>\n",
       "<style scoped>\n",
       "    .dataframe tbody tr th:only-of-type {\n",
       "        vertical-align: middle;\n",
       "    }\n",
       "\n",
       "    .dataframe tbody tr th {\n",
       "        vertical-align: top;\n",
       "    }\n",
       "\n",
       "    .dataframe thead th {\n",
       "        text-align: right;\n",
       "    }\n",
       "</style>\n",
       "<table border=\"1\" class=\"dataframe\">\n",
       "  <thead>\n",
       "    <tr style=\"text-align: right;\">\n",
       "      <th></th>\n",
       "      <th>Region</th>\n",
       "      <th>Date</th>\n",
       "      <th>Est_Unemp_Rate(%)</th>\n",
       "      <th>Est_Emp</th>\n",
       "      <th>Est_labour_rate(%)</th>\n",
       "      <th>Area</th>\n",
       "      <th>Year</th>\n",
       "      <th>Month</th>\n",
       "    </tr>\n",
       "  </thead>\n",
       "  <tbody>\n",
       "    <tr>\n",
       "      <th>0</th>\n",
       "      <td>Andhra Pradesh</td>\n",
       "      <td>2019-05-31</td>\n",
       "      <td>3.65</td>\n",
       "      <td>12.00</td>\n",
       "      <td>43.24</td>\n",
       "      <td>Rural</td>\n",
       "      <td>2019</td>\n",
       "      <td>5</td>\n",
       "    </tr>\n",
       "    <tr>\n",
       "      <th>1</th>\n",
       "      <td>Andhra Pradesh</td>\n",
       "      <td>2019-06-30</td>\n",
       "      <td>3.05</td>\n",
       "      <td>11.76</td>\n",
       "      <td>42.05</td>\n",
       "      <td>Rural</td>\n",
       "      <td>2019</td>\n",
       "      <td>6</td>\n",
       "    </tr>\n",
       "  </tbody>\n",
       "</table>\n",
       "</div>"
      ],
      "text/plain": [
       "           Region       Date  Est_Unemp_Rate(%)  Est_Emp  Est_labour_rate(%)  \\\n",
       "0  Andhra Pradesh 2019-05-31               3.65    12.00               43.24   \n",
       "1  Andhra Pradesh 2019-06-30               3.05    11.76               42.05   \n",
       "\n",
       "    Area  Year  Month  \n",
       "0  Rural  2019      5  \n",
       "1  Rural  2019      6  "
      ]
     },
     "execution_count": 26,
     "metadata": {},
     "output_type": "execute_result"
    }
   ],
   "source": [
    "# Extract year and month \n",
    "df['Year']=df['Date'].dt.year\n",
    "df['Month']= df['Date'].dt.month\n",
    "df.head(2)"
   ]
  },
  {
   "cell_type": "code",
   "execution_count": 27,
   "id": "84ccac4b-bec1-4373-ac4e-a655db72cb78",
   "metadata": {},
   "outputs": [
    {
     "data": {
      "text/plain": [
       "array([ 5,  6,  7,  8,  9, 10, 11, 12,  1,  2,  3,  4], dtype=int64)"
      ]
     },
     "execution_count": 27,
     "metadata": {},
     "output_type": "execute_result"
    }
   ],
   "source": [
    "df['Month'].unique()"
   ]
  },
  {
   "cell_type": "code",
   "execution_count": 28,
   "id": "28806f63-3aae-4bb0-bdf4-c179b8785fec",
   "metadata": {},
   "outputs": [],
   "source": [
    "df['Month']=df['Month'].replace({1:'Jan',2:'Feb',3:'Mar',4:'Apr',5:'May',6:'Jun',7:'July',8:'Aug',9:'Sep',10:'Oct',11:'Nov',12:'Dec'})"
   ]
  },
  {
   "cell_type": "code",
   "execution_count": 29,
   "id": "f2a9381c-7270-49ff-851d-33e6df939f51",
   "metadata": {},
   "outputs": [
    {
     "data": {
      "text/html": [
       "<div>\n",
       "<style scoped>\n",
       "    .dataframe tbody tr th:only-of-type {\n",
       "        vertical-align: middle;\n",
       "    }\n",
       "\n",
       "    .dataframe tbody tr th {\n",
       "        vertical-align: top;\n",
       "    }\n",
       "\n",
       "    .dataframe thead th {\n",
       "        text-align: right;\n",
       "    }\n",
       "</style>\n",
       "<table border=\"1\" class=\"dataframe\">\n",
       "  <thead>\n",
       "    <tr style=\"text-align: right;\">\n",
       "      <th></th>\n",
       "      <th>Region</th>\n",
       "      <th>Date</th>\n",
       "      <th>Est_Unemp_Rate(%)</th>\n",
       "      <th>Est_Emp</th>\n",
       "      <th>Est_labour_rate(%)</th>\n",
       "      <th>Area</th>\n",
       "      <th>Year</th>\n",
       "      <th>Month</th>\n",
       "    </tr>\n",
       "  </thead>\n",
       "  <tbody>\n",
       "    <tr>\n",
       "      <th>0</th>\n",
       "      <td>Andhra Pradesh</td>\n",
       "      <td>2019-05-31</td>\n",
       "      <td>3.65</td>\n",
       "      <td>12.00</td>\n",
       "      <td>43.24</td>\n",
       "      <td>Rural</td>\n",
       "      <td>2019</td>\n",
       "      <td>May</td>\n",
       "    </tr>\n",
       "    <tr>\n",
       "      <th>1</th>\n",
       "      <td>Andhra Pradesh</td>\n",
       "      <td>2019-06-30</td>\n",
       "      <td>3.05</td>\n",
       "      <td>11.76</td>\n",
       "      <td>42.05</td>\n",
       "      <td>Rural</td>\n",
       "      <td>2019</td>\n",
       "      <td>Jun</td>\n",
       "    </tr>\n",
       "    <tr>\n",
       "      <th>2</th>\n",
       "      <td>Andhra Pradesh</td>\n",
       "      <td>2019-07-31</td>\n",
       "      <td>3.75</td>\n",
       "      <td>12.09</td>\n",
       "      <td>43.50</td>\n",
       "      <td>Rural</td>\n",
       "      <td>2019</td>\n",
       "      <td>July</td>\n",
       "    </tr>\n",
       "    <tr>\n",
       "      <th>3</th>\n",
       "      <td>Andhra Pradesh</td>\n",
       "      <td>2019-08-31</td>\n",
       "      <td>3.32</td>\n",
       "      <td>12.29</td>\n",
       "      <td>43.97</td>\n",
       "      <td>Rural</td>\n",
       "      <td>2019</td>\n",
       "      <td>Aug</td>\n",
       "    </tr>\n",
       "    <tr>\n",
       "      <th>4</th>\n",
       "      <td>Andhra Pradesh</td>\n",
       "      <td>2019-09-30</td>\n",
       "      <td>5.17</td>\n",
       "      <td>12.26</td>\n",
       "      <td>44.68</td>\n",
       "      <td>Rural</td>\n",
       "      <td>2019</td>\n",
       "      <td>Sep</td>\n",
       "    </tr>\n",
       "  </tbody>\n",
       "</table>\n",
       "</div>"
      ],
      "text/plain": [
       "           Region       Date  Est_Unemp_Rate(%)  Est_Emp  Est_labour_rate(%)  \\\n",
       "0  Andhra Pradesh 2019-05-31               3.65    12.00               43.24   \n",
       "1  Andhra Pradesh 2019-06-30               3.05    11.76               42.05   \n",
       "2  Andhra Pradesh 2019-07-31               3.75    12.09               43.50   \n",
       "3  Andhra Pradesh 2019-08-31               3.32    12.29               43.97   \n",
       "4  Andhra Pradesh 2019-09-30               5.17    12.26               44.68   \n",
       "\n",
       "    Area  Year Month  \n",
       "0  Rural  2019   May  \n",
       "1  Rural  2019   Jun  \n",
       "2  Rural  2019  July  \n",
       "3  Rural  2019   Aug  \n",
       "4  Rural  2019   Sep  "
      ]
     },
     "execution_count": 29,
     "metadata": {},
     "output_type": "execute_result"
    }
   ],
   "source": [
    "df.head()"
   ]
  },
  {
   "cell_type": "markdown",
   "id": "109708ae",
   "metadata": {},
   "source": [
    " ## Exploratory Data Analysis"
   ]
  },
  {
   "cell_type": "markdown",
   "id": "420f4b41",
   "metadata": {},
   "source": [
    "### 1) What is the overall trend of unemployment rate in India over the years?"
   ]
  },
  {
   "cell_type": "code",
   "execution_count": 30,
   "id": "57314f0e",
   "metadata": {},
   "outputs": [
    {
     "data": {
      "text/html": [
       "<div>\n",
       "<style scoped>\n",
       "    .dataframe tbody tr th:only-of-type {\n",
       "        vertical-align: middle;\n",
       "    }\n",
       "\n",
       "    .dataframe tbody tr th {\n",
       "        vertical-align: top;\n",
       "    }\n",
       "\n",
       "    .dataframe thead th {\n",
       "        text-align: right;\n",
       "    }\n",
       "</style>\n",
       "<table border=\"1\" class=\"dataframe\">\n",
       "  <thead>\n",
       "    <tr style=\"text-align: right;\">\n",
       "      <th></th>\n",
       "      <th>Year</th>\n",
       "      <th>Est_Unemp_Rate(%)</th>\n",
       "    </tr>\n",
       "  </thead>\n",
       "  <tbody>\n",
       "    <tr>\n",
       "      <th>0</th>\n",
       "      <td>2019</td>\n",
       "      <td>9.399047</td>\n",
       "    </tr>\n",
       "    <tr>\n",
       "      <th>1</th>\n",
       "      <td>2020</td>\n",
       "      <td>15.101581</td>\n",
       "    </tr>\n",
       "  </tbody>\n",
       "</table>\n",
       "</div>"
      ],
      "text/plain": [
       "   Year  Est_Unemp_Rate(%)\n",
       "0  2019           9.399047\n",
       "1  2020          15.101581"
      ]
     },
     "execution_count": 30,
     "metadata": {},
     "output_type": "execute_result"
    }
   ],
   "source": [
    "#Group data by year and calculate average unemployment rate\n",
    "yearly_avg_unemployment = df.groupby('Year')['Est_Unemp_Rate(%)'].mean().reset_index()\n",
    "yearly_avg_unemployment"
   ]
  },
  {
   "cell_type": "code",
   "execution_count": 31,
   "id": "a2b71aac",
   "metadata": {},
   "outputs": [
    {
     "data": {
      "image/png": "[encoded data removed]",
      "text/plain": [
       "<Figure size 700x400 with 1 Axes>"
      ]
     },
     "metadata": {},
     "output_type": "display_data"
    }
   ],
   "source": [
    "plt.figure(figsize=(7, 4))\n",
    "sns.barplot(x='Year',y='Est_Unemp_Rate(%)',data=df,palette='summer')\n",
    "plt.xlabel('Year',fontsize=12)\n",
    "plt.ylabel('Average Unemployment Rate (%)',fontsize=12)\n",
    "plt.title('Trend of Unemployment Rate in India Over the Years',fontsize=15)\n",
    "sns.set(style='darkgrid')\n",
    "plt.show()"
   ]
  },
  {
   "cell_type": "markdown",
   "id": "564160dd-f04f-4a5f-9aff-7187a110830f",
   "metadata": {},
   "source": [
    "* From the above graph, we can see that the unemployment rate was much higher in 2020 (over 15%) compared to 2019."
   ]
  },
  {
   "cell_type": "markdown",
   "id": "63b6514b",
   "metadata": {},
   "source": [
    "### 2.  What was  monthly trend in the unemployment rate during the Covid-19 period in India? "
   ]
  },
  {
   "cell_type": "code",
   "execution_count": 32,
   "id": "09f7803c",
   "metadata": {},
   "outputs": [],
   "source": [
    "monthly_avg_unemployment = df.groupby(['Month','Year'])['Est_Unemp_Rate(%)'].mean().reset_index()"
   ]
  },
  {
   "cell_type": "code",
   "execution_count": 33,
   "id": "96daadb6",
   "metadata": {},
   "outputs": [
    {
     "data": {
      "text/html": [
       "<div>\n",
       "<style scoped>\n",
       "    .dataframe tbody tr th:only-of-type {\n",
       "        vertical-align: middle;\n",
       "    }\n",
       "\n",
       "    .dataframe tbody tr th {\n",
       "        vertical-align: top;\n",
       "    }\n",
       "\n",
       "    .dataframe thead th {\n",
       "        text-align: right;\n",
       "    }\n",
       "</style>\n",
       "<table border=\"1\" class=\"dataframe\">\n",
       "  <thead>\n",
       "    <tr style=\"text-align: right;\">\n",
       "      <th></th>\n",
       "      <th>Month</th>\n",
       "      <th>Year</th>\n",
       "      <th>Est_Unemp_Rate(%)</th>\n",
       "    </tr>\n",
       "  </thead>\n",
       "  <tbody>\n",
       "    <tr>\n",
       "      <th>0</th>\n",
       "      <td>Apr</td>\n",
       "      <td>2020</td>\n",
       "      <td>23.641569</td>\n",
       "    </tr>\n",
       "    <tr>\n",
       "      <th>1</th>\n",
       "      <td>Aug</td>\n",
       "      <td>2019</td>\n",
       "      <td>9.637925</td>\n",
       "    </tr>\n",
       "    <tr>\n",
       "      <th>2</th>\n",
       "      <td>Dec</td>\n",
       "      <td>2019</td>\n",
       "      <td>9.497358</td>\n",
       "    </tr>\n",
       "    <tr>\n",
       "      <th>3</th>\n",
       "      <td>Feb</td>\n",
       "      <td>2020</td>\n",
       "      <td>9.964717</td>\n",
       "    </tr>\n",
       "    <tr>\n",
       "      <th>4</th>\n",
       "      <td>Jan</td>\n",
       "      <td>2020</td>\n",
       "      <td>9.950755</td>\n",
       "    </tr>\n",
       "    <tr>\n",
       "      <th>5</th>\n",
       "      <td>July</td>\n",
       "      <td>2019</td>\n",
       "      <td>9.033889</td>\n",
       "    </tr>\n",
       "    <tr>\n",
       "      <th>6</th>\n",
       "      <td>Jun</td>\n",
       "      <td>2019</td>\n",
       "      <td>9.303333</td>\n",
       "    </tr>\n",
       "    <tr>\n",
       "      <th>7</th>\n",
       "      <td>Jun</td>\n",
       "      <td>2020</td>\n",
       "      <td>11.903600</td>\n",
       "    </tr>\n",
       "    <tr>\n",
       "      <th>8</th>\n",
       "      <td>Mar</td>\n",
       "      <td>2020</td>\n",
       "      <td>10.700577</td>\n",
       "    </tr>\n",
       "    <tr>\n",
       "      <th>9</th>\n",
       "      <td>May</td>\n",
       "      <td>2019</td>\n",
       "      <td>8.874259</td>\n",
       "    </tr>\n",
       "    <tr>\n",
       "      <th>10</th>\n",
       "      <td>May</td>\n",
       "      <td>2020</td>\n",
       "      <td>24.875294</td>\n",
       "    </tr>\n",
       "    <tr>\n",
       "      <th>11</th>\n",
       "      <td>Nov</td>\n",
       "      <td>2019</td>\n",
       "      <td>9.868364</td>\n",
       "    </tr>\n",
       "    <tr>\n",
       "      <th>12</th>\n",
       "      <td>Oct</td>\n",
       "      <td>2019</td>\n",
       "      <td>9.900909</td>\n",
       "    </tr>\n",
       "    <tr>\n",
       "      <th>13</th>\n",
       "      <td>Sep</td>\n",
       "      <td>2019</td>\n",
       "      <td>9.051731</td>\n",
       "    </tr>\n",
       "  </tbody>\n",
       "</table>\n",
       "</div>"
      ],
      "text/plain": [
       "   Month  Year  Est_Unemp_Rate(%)\n",
       "0    Apr  2020          23.641569\n",
       "1    Aug  2019           9.637925\n",
       "2    Dec  2019           9.497358\n",
       "3    Feb  2020           9.964717\n",
       "4    Jan  2020           9.950755\n",
       "5   July  2019           9.033889\n",
       "6    Jun  2019           9.303333\n",
       "7    Jun  2020          11.903600\n",
       "8    Mar  2020          10.700577\n",
       "9    May  2019           8.874259\n",
       "10   May  2020          24.875294\n",
       "11   Nov  2019           9.868364\n",
       "12   Oct  2019           9.900909\n",
       "13   Sep  2019           9.051731"
      ]
     },
     "execution_count": 33,
     "metadata": {},
     "output_type": "execute_result"
    }
   ],
   "source": [
    "monthly_avg_unemployment"
   ]
  },
  {
   "cell_type": "code",
   "execution_count": 34,
   "id": "540c343e",
   "metadata": {},
   "outputs": [],
   "source": [
    "# Define the correct order for the months\n",
    "month_order = ['Jan', 'Feb', 'Mar', 'Apr', 'May', 'Jun', 'Jul', 'Aug', 'Sep', 'Oct', 'Nov', 'Dec']\n",
    "\n",
    "# Convert the Month column to a categorical type with the specified order\n",
    "monthly_avg_unemployment['Month'] = pd.Categorical(monthly_avg_unemployment['Month'], categories=month_order, ordered=True)\n",
    "\n",
    "# Sort the DataFrame by the Month column\n",
    "monthly_avg_unemployment=monthly_avg_unemployment.sort_values('Month')"
   ]
  },
  {
   "cell_type": "code",
   "execution_count": 35,
   "id": "c8ef6685",
   "metadata": {},
   "outputs": [
    {
     "data": {
      "image/png": "[encoded data removed]",
      "text/plain": [
       "<Figure size 1000x400 with 1 Axes>"
      ]
     },
     "metadata": {},
     "output_type": "display_data"
    }
   ],
   "source": [
    "plt.figure(figsize=(10, 4))\n",
    "sns.lineplot(x='Month',y='Est_Unemp_Rate(%)',data=monthly_avg_unemployment,hue='Year',palette='flare')\n",
    "plt.xlabel('Month',fontsize=12)\n",
    "plt.ylabel('Avg Unemployment Rate (%)',fontsize=12)\n",
    "plt.title('Monthly Average Unemployment Rate During Covid-19 Period in India',fontsize=15)\n",
    "plt.xticks(rotation=45)\n",
    "sns.set(style='white')\n",
    "plt.show()"
   ]
  },
  {
   "cell_type": "markdown",
   "id": "a394aa50-d55e-461b-9479-9db47ac85301",
   "metadata": {},
   "source": [
    "* The graph shows that the highest unemployment rates were in April and May 2020. However, from May 2019 to March 2020, the unemployment rate was low."
   ]
  },
  {
   "cell_type": "markdown",
   "id": "594f5ae5",
   "metadata": {},
   "source": [
    "### 3. Which regions in India experienced the highest and lowest unemployment rates during the Covid-19 period?"
   ]
  },
  {
   "cell_type": "code",
   "execution_count": 36,
   "id": "43710944",
   "metadata": {
    "collapsed": true,
    "jupyter": {
     "outputs_hidden": true
    },
    "tags": []
   },
   "outputs": [
    {
     "data": {
      "text/html": [
       "<div>\n",
       "<style scoped>\n",
       "    .dataframe tbody tr th:only-of-type {\n",
       "        vertical-align: middle;\n",
       "    }\n",
       "\n",
       "    .dataframe tbody tr th {\n",
       "        vertical-align: top;\n",
       "    }\n",
       "\n",
       "    .dataframe thead th {\n",
       "        text-align: right;\n",
       "    }\n",
       "</style>\n",
       "<table border=\"1\" class=\"dataframe\">\n",
       "  <thead>\n",
       "    <tr style=\"text-align: right;\">\n",
       "      <th></th>\n",
       "      <th>Region</th>\n",
       "      <th>Est_Unemp_Rate(%)</th>\n",
       "    </tr>\n",
       "  </thead>\n",
       "  <tbody>\n",
       "    <tr>\n",
       "      <th>16</th>\n",
       "      <td>Meghalaya</td>\n",
       "      <td>4.798889</td>\n",
       "    </tr>\n",
       "    <tr>\n",
       "      <th>17</th>\n",
       "      <td>Odisha</td>\n",
       "      <td>5.657857</td>\n",
       "    </tr>\n",
       "    <tr>\n",
       "      <th>1</th>\n",
       "      <td>Assam</td>\n",
       "      <td>6.428077</td>\n",
       "    </tr>\n",
       "    <tr>\n",
       "      <th>26</th>\n",
       "      <td>Uttarakhand</td>\n",
       "      <td>6.582963</td>\n",
       "    </tr>\n",
       "    <tr>\n",
       "      <th>7</th>\n",
       "      <td>Gujarat</td>\n",
       "      <td>6.663929</td>\n",
       "    </tr>\n",
       "    <tr>\n",
       "      <th>12</th>\n",
       "      <td>Karnataka</td>\n",
       "      <td>6.676071</td>\n",
       "    </tr>\n",
       "    <tr>\n",
       "      <th>21</th>\n",
       "      <td>Sikkim</td>\n",
       "      <td>7.249412</td>\n",
       "    </tr>\n",
       "    <tr>\n",
       "      <th>14</th>\n",
       "      <td>Madhya Pradesh</td>\n",
       "      <td>7.406429</td>\n",
       "    </tr>\n",
       "    <tr>\n",
       "      <th>0</th>\n",
       "      <td>Andhra Pradesh</td>\n",
       "      <td>7.477143</td>\n",
       "    </tr>\n",
       "    <tr>\n",
       "      <th>15</th>\n",
       "      <td>Maharashtra</td>\n",
       "      <td>7.557500</td>\n",
       "    </tr>\n",
       "    <tr>\n",
       "      <th>23</th>\n",
       "      <td>Telangana</td>\n",
       "      <td>7.737857</td>\n",
       "    </tr>\n",
       "    <tr>\n",
       "      <th>27</th>\n",
       "      <td>West Bengal</td>\n",
       "      <td>8.124643</td>\n",
       "    </tr>\n",
       "    <tr>\n",
       "      <th>4</th>\n",
       "      <td>Chhattisgarh</td>\n",
       "      <td>9.240357</td>\n",
       "    </tr>\n",
       "    <tr>\n",
       "      <th>6</th>\n",
       "      <td>Goa</td>\n",
       "      <td>9.274167</td>\n",
       "    </tr>\n",
       "    <tr>\n",
       "      <th>22</th>\n",
       "      <td>Tamil Nadu</td>\n",
       "      <td>9.284286</td>\n",
       "    </tr>\n",
       "    <tr>\n",
       "      <th>13</th>\n",
       "      <td>Kerala</td>\n",
       "      <td>10.123929</td>\n",
       "    </tr>\n",
       "    <tr>\n",
       "      <th>18</th>\n",
       "      <td>Puducherry</td>\n",
       "      <td>10.215000</td>\n",
       "    </tr>\n",
       "    <tr>\n",
       "      <th>19</th>\n",
       "      <td>Punjab</td>\n",
       "      <td>12.031071</td>\n",
       "    </tr>\n",
       "    <tr>\n",
       "      <th>25</th>\n",
       "      <td>Uttar Pradesh</td>\n",
       "      <td>12.551429</td>\n",
       "    </tr>\n",
       "    <tr>\n",
       "      <th>20</th>\n",
       "      <td>Rajasthan</td>\n",
       "      <td>14.058214</td>\n",
       "    </tr>\n",
       "    <tr>\n",
       "      <th>3</th>\n",
       "      <td>Chandigarh</td>\n",
       "      <td>15.991667</td>\n",
       "    </tr>\n",
       "    <tr>\n",
       "      <th>10</th>\n",
       "      <td>Jammu &amp; Kashmir</td>\n",
       "      <td>16.188571</td>\n",
       "    </tr>\n",
       "    <tr>\n",
       "      <th>5</th>\n",
       "      <td>Delhi</td>\n",
       "      <td>16.495357</td>\n",
       "    </tr>\n",
       "    <tr>\n",
       "      <th>9</th>\n",
       "      <td>Himachal Pradesh</td>\n",
       "      <td>18.540357</td>\n",
       "    </tr>\n",
       "    <tr>\n",
       "      <th>2</th>\n",
       "      <td>Bihar</td>\n",
       "      <td>18.918214</td>\n",
       "    </tr>\n",
       "    <tr>\n",
       "      <th>11</th>\n",
       "      <td>Jharkhand</td>\n",
       "      <td>20.585000</td>\n",
       "    </tr>\n",
       "    <tr>\n",
       "      <th>8</th>\n",
       "      <td>Haryana</td>\n",
       "      <td>26.283214</td>\n",
       "    </tr>\n",
       "    <tr>\n",
       "      <th>24</th>\n",
       "      <td>Tripura</td>\n",
       "      <td>28.350357</td>\n",
       "    </tr>\n",
       "  </tbody>\n",
       "</table>\n",
       "</div>"
      ],
      "text/plain": [
       "              Region  Est_Unemp_Rate(%)\n",
       "16         Meghalaya           4.798889\n",
       "17            Odisha           5.657857\n",
       "1              Assam           6.428077\n",
       "26       Uttarakhand           6.582963\n",
       "7            Gujarat           6.663929\n",
       "12         Karnataka           6.676071\n",
       "21            Sikkim           7.249412\n",
       "14    Madhya Pradesh           7.406429\n",
       "0     Andhra Pradesh           7.477143\n",
       "15       Maharashtra           7.557500\n",
       "23         Telangana           7.737857\n",
       "27       West Bengal           8.124643\n",
       "4       Chhattisgarh           9.240357\n",
       "6                Goa           9.274167\n",
       "22        Tamil Nadu           9.284286\n",
       "13            Kerala          10.123929\n",
       "18        Puducherry          10.215000\n",
       "19            Punjab          12.031071\n",
       "25     Uttar Pradesh          12.551429\n",
       "20         Rajasthan          14.058214\n",
       "3         Chandigarh          15.991667\n",
       "10   Jammu & Kashmir          16.188571\n",
       "5              Delhi          16.495357\n",
       "9   Himachal Pradesh          18.540357\n",
       "2              Bihar          18.918214\n",
       "11         Jharkhand          20.585000\n",
       "8            Haryana          26.283214\n",
       "24           Tripura          28.350357"
      ]
     },
     "execution_count": 36,
     "metadata": {},
     "output_type": "execute_result"
    }
   ],
   "source": [
    "regions_unemployment_rates = df.groupby('Region')['Est_Unemp_Rate(%)'].mean().reset_index().sort_values(by='Est_Unemp_Rate(%)')\n",
    "regions_unemployment_rates"
   ]
  },
  {
   "cell_type": "code",
   "execution_count": 37,
   "id": "f898ce28",
   "metadata": {},
   "outputs": [
    {
     "data": {
      "image/png": "[encoded data removed]",
      "text/plain": [
       "<Figure size 800x800 with 1 Axes>"
      ]
     },
     "metadata": {},
     "output_type": "display_data"
    }
   ],
   "source": [
    "plt.figure(figsize=(8, 8))\n",
    "sns.barplot(y='Region',x='Est_Unemp_Rate(%)',data=df,palette=\"viridis\")\n",
    "plt.ylabel('Region',fontsize=12)\n",
    "plt.xlabel('Average Unemployment Rate (%)',fontsize=12)\n",
    "plt.title(' Unemployment Rate in India by Region',fontsize=15)\n",
    "sns.set(style='white')\n",
    "plt.show()"
   ]
  },
  {
   "cell_type": "markdown",
   "id": "a7d8511f-46db-4a69-ba72-1cdb7aa0d1f6",
   "metadata": {},
   "source": [
    "* Tripura (around 30%) and Haryana(around 27%) had the highest unemployment rate, while Meghalaya had the lowest unemployment rate (around 5%) during the Covid-19 period."
   ]
  },
  {
   "cell_type": "markdown",
   "id": "8362e38f",
   "metadata": {},
   "source": [
    "### 4. Compare the unemployment rates across different  areas (rural vs. urban)."
   ]
  },
  {
   "cell_type": "code",
   "execution_count": 38,
   "id": "227299e6",
   "metadata": {},
   "outputs": [],
   "source": [
    "unemployment_rate_area=df.groupby('Area')['Est_Unemp_Rate(%)'].mean().reset_index()"
   ]
  },
  {
   "cell_type": "code",
   "execution_count": 39,
   "id": "1dd6bde0",
   "metadata": {},
   "outputs": [
    {
     "data": {
      "text/html": [
       "<div>\n",
       "<style scoped>\n",
       "    .dataframe tbody tr th:only-of-type {\n",
       "        vertical-align: middle;\n",
       "    }\n",
       "\n",
       "    .dataframe tbody tr th {\n",
       "        vertical-align: top;\n",
       "    }\n",
       "\n",
       "    .dataframe thead th {\n",
       "        text-align: right;\n",
       "    }\n",
       "</style>\n",
       "<table border=\"1\" class=\"dataframe\">\n",
       "  <thead>\n",
       "    <tr style=\"text-align: right;\">\n",
       "      <th></th>\n",
       "      <th>Area</th>\n",
       "      <th>Est_Unemp_Rate(%)</th>\n",
       "    </tr>\n",
       "  </thead>\n",
       "  <tbody>\n",
       "    <tr>\n",
       "      <th>0</th>\n",
       "      <td>Rural</td>\n",
       "      <td>10.324791</td>\n",
       "    </tr>\n",
       "    <tr>\n",
       "      <th>1</th>\n",
       "      <td>Urban</td>\n",
       "      <td>13.166614</td>\n",
       "    </tr>\n",
       "  </tbody>\n",
       "</table>\n",
       "</div>"
      ],
      "text/plain": [
       "    Area  Est_Unemp_Rate(%)\n",
       "0  Rural          10.324791\n",
       "1  Urban          13.166614"
      ]
     },
     "execution_count": 39,
     "metadata": {},
     "output_type": "execute_result"
    }
   ],
   "source": [
    "unemployment_rate_area"
   ]
  },
  {
   "cell_type": "code",
   "execution_count": 40,
   "id": "b09f358f",
   "metadata": {},
   "outputs": [
    {
     "data": {
      "image/png": "[encoded data removed]",
      "text/plain": [
       "<Figure size 640x480 with 1 Axes>"
      ]
     },
     "metadata": {},
     "output_type": "display_data"
    }
   ],
   "source": [
    "ax=sns.barplot(x='Area',y='Est_Unemp_Rate(%)',data=unemployment_rate_area,palette=\"BuPu\")\n",
    "for index, row in unemployment_rate_area.iterrows():\n",
    "    ax.text(index, row['Est_Unemp_Rate(%)'], round(row['Est_Unemp_Rate(%)'], 2), color='black', ha=\"center\")\n",
    "plt.title('Unemployment rate by Area',fontsize=15)\n",
    "plt.ylabel('Average unemployment rate(%)',fontsize=12)\n",
    "plt.xlabel('Area',fontsize=15)\n",
    "sns.set(style='darkgrid')\n",
    "plt.show()"
   ]
  },
  {
   "cell_type": "markdown",
   "id": "431697f9-4145-48fa-96bf-c76c7acbce32",
   "metadata": {},
   "source": [
    "* The unemployment rate was slightly higher in urban areas compared to rural areas."
   ]
  },
  {
   "cell_type": "markdown",
   "id": "8b25927a",
   "metadata": {},
   "source": [
    "### 5) What was the estimated labour participation rate in different Regions?"
   ]
  },
  {
   "cell_type": "code",
   "execution_count": 41,
   "id": "8bbe51e0",
   "metadata": {
    "collapsed": true,
    "jupyter": {
     "outputs_hidden": true
    },
    "tags": []
   },
   "outputs": [
    {
     "data": {
      "text/html": [
       "<div>\n",
       "<style scoped>\n",
       "    .dataframe tbody tr th:only-of-type {\n",
       "        vertical-align: middle;\n",
       "    }\n",
       "\n",
       "    .dataframe tbody tr th {\n",
       "        vertical-align: top;\n",
       "    }\n",
       "\n",
       "    .dataframe thead th {\n",
       "        text-align: right;\n",
       "    }\n",
       "</style>\n",
       "<table border=\"1\" class=\"dataframe\">\n",
       "  <thead>\n",
       "    <tr style=\"text-align: right;\">\n",
       "      <th></th>\n",
       "      <th>Region</th>\n",
       "      <th>Est_labour_rate(%)</th>\n",
       "    </tr>\n",
       "  </thead>\n",
       "  <tbody>\n",
       "    <tr>\n",
       "      <th>0</th>\n",
       "      <td>Andhra Pradesh</td>\n",
       "      <td>39.375714</td>\n",
       "    </tr>\n",
       "    <tr>\n",
       "      <th>1</th>\n",
       "      <td>Assam</td>\n",
       "      <td>44.868462</td>\n",
       "    </tr>\n",
       "    <tr>\n",
       "      <th>2</th>\n",
       "      <td>Bihar</td>\n",
       "      <td>38.153929</td>\n",
       "    </tr>\n",
       "    <tr>\n",
       "      <th>3</th>\n",
       "      <td>Chandigarh</td>\n",
       "      <td>39.336667</td>\n",
       "    </tr>\n",
       "    <tr>\n",
       "      <th>4</th>\n",
       "      <td>Chhattisgarh</td>\n",
       "      <td>42.810714</td>\n",
       "    </tr>\n",
       "    <tr>\n",
       "      <th>5</th>\n",
       "      <td>Delhi</td>\n",
       "      <td>38.929643</td>\n",
       "    </tr>\n",
       "    <tr>\n",
       "      <th>6</th>\n",
       "      <td>Goa</td>\n",
       "      <td>39.249583</td>\n",
       "    </tr>\n",
       "    <tr>\n",
       "      <th>7</th>\n",
       "      <td>Gujarat</td>\n",
       "      <td>46.101071</td>\n",
       "    </tr>\n",
       "    <tr>\n",
       "      <th>8</th>\n",
       "      <td>Haryana</td>\n",
       "      <td>42.737143</td>\n",
       "    </tr>\n",
       "    <tr>\n",
       "      <th>9</th>\n",
       "      <td>Himachal Pradesh</td>\n",
       "      <td>44.222143</td>\n",
       "    </tr>\n",
       "    <tr>\n",
       "      <th>10</th>\n",
       "      <td>Jammu &amp; Kashmir</td>\n",
       "      <td>41.030952</td>\n",
       "    </tr>\n",
       "    <tr>\n",
       "      <th>11</th>\n",
       "      <td>Jharkhand</td>\n",
       "      <td>41.670714</td>\n",
       "    </tr>\n",
       "    <tr>\n",
       "      <th>12</th>\n",
       "      <td>Karnataka</td>\n",
       "      <td>41.345357</td>\n",
       "    </tr>\n",
       "    <tr>\n",
       "      <th>13</th>\n",
       "      <td>Kerala</td>\n",
       "      <td>34.867857</td>\n",
       "    </tr>\n",
       "    <tr>\n",
       "      <th>14</th>\n",
       "      <td>Madhya Pradesh</td>\n",
       "      <td>38.821429</td>\n",
       "    </tr>\n",
       "    <tr>\n",
       "      <th>15</th>\n",
       "      <td>Maharashtra</td>\n",
       "      <td>42.303214</td>\n",
       "    </tr>\n",
       "    <tr>\n",
       "      <th>16</th>\n",
       "      <td>Meghalaya</td>\n",
       "      <td>57.080741</td>\n",
       "    </tr>\n",
       "    <tr>\n",
       "      <th>17</th>\n",
       "      <td>Odisha</td>\n",
       "      <td>38.926429</td>\n",
       "    </tr>\n",
       "    <tr>\n",
       "      <th>18</th>\n",
       "      <td>Puducherry</td>\n",
       "      <td>38.992692</td>\n",
       "    </tr>\n",
       "    <tr>\n",
       "      <th>19</th>\n",
       "      <td>Punjab</td>\n",
       "      <td>41.138214</td>\n",
       "    </tr>\n",
       "    <tr>\n",
       "      <th>20</th>\n",
       "      <td>Rajasthan</td>\n",
       "      <td>39.973214</td>\n",
       "    </tr>\n",
       "    <tr>\n",
       "      <th>21</th>\n",
       "      <td>Sikkim</td>\n",
       "      <td>46.070000</td>\n",
       "    </tr>\n",
       "    <tr>\n",
       "      <th>22</th>\n",
       "      <td>Tamil Nadu</td>\n",
       "      <td>40.872143</td>\n",
       "    </tr>\n",
       "    <tr>\n",
       "      <th>23</th>\n",
       "      <td>Telangana</td>\n",
       "      <td>53.002500</td>\n",
       "    </tr>\n",
       "    <tr>\n",
       "      <th>24</th>\n",
       "      <td>Tripura</td>\n",
       "      <td>61.823929</td>\n",
       "    </tr>\n",
       "    <tr>\n",
       "      <th>25</th>\n",
       "      <td>Uttar Pradesh</td>\n",
       "      <td>39.432500</td>\n",
       "    </tr>\n",
       "    <tr>\n",
       "      <th>26</th>\n",
       "      <td>Uttarakhand</td>\n",
       "      <td>33.775556</td>\n",
       "    </tr>\n",
       "    <tr>\n",
       "      <th>27</th>\n",
       "      <td>West Bengal</td>\n",
       "      <td>45.417500</td>\n",
       "    </tr>\n",
       "  </tbody>\n",
       "</table>\n",
       "</div>"
      ],
      "text/plain": [
       "              Region  Est_labour_rate(%)\n",
       "0     Andhra Pradesh           39.375714\n",
       "1              Assam           44.868462\n",
       "2              Bihar           38.153929\n",
       "3         Chandigarh           39.336667\n",
       "4       Chhattisgarh           42.810714\n",
       "5              Delhi           38.929643\n",
       "6                Goa           39.249583\n",
       "7            Gujarat           46.101071\n",
       "8            Haryana           42.737143\n",
       "9   Himachal Pradesh           44.222143\n",
       "10   Jammu & Kashmir           41.030952\n",
       "11         Jharkhand           41.670714\n",
       "12         Karnataka           41.345357\n",
       "13            Kerala           34.867857\n",
       "14    Madhya Pradesh           38.821429\n",
       "15       Maharashtra           42.303214\n",
       "16         Meghalaya           57.080741\n",
       "17            Odisha           38.926429\n",
       "18        Puducherry           38.992692\n",
       "19            Punjab           41.138214\n",
       "20         Rajasthan           39.973214\n",
       "21            Sikkim           46.070000\n",
       "22        Tamil Nadu           40.872143\n",
       "23         Telangana           53.002500\n",
       "24           Tripura           61.823929\n",
       "25     Uttar Pradesh           39.432500\n",
       "26       Uttarakhand           33.775556\n",
       "27       West Bengal           45.417500"
      ]
     },
     "execution_count": 41,
     "metadata": {},
     "output_type": "execute_result"
    }
   ],
   "source": [
    "regions_Est_Emp= df.groupby('Region')['Est_labour_rate(%)'].mean().reset_index()\n",
    "regions_Est_Emp"
   ]
  },
  {
   "cell_type": "code",
   "execution_count": 42,
   "id": "538fe61e",
   "metadata": {},
   "outputs": [
    {
     "data": {
      "image/png": "[encoded data removed]",
      "text/plain": [
       "<Figure size 800x800 with 1 Axes>"
      ]
     },
     "metadata": {},
     "output_type": "display_data"
    }
   ],
   "source": [
    "plt.figure(figsize=(8, 8))\n",
    "sns.barplot(x='Est_labour_rate(%)',y='Region',data=regions_Est_Emp,palette=\"flare\")\n",
    "plt.title(\"Average Labour Participation Rate in different Regions in India (May 2019 - June 2020)\",fontsize=15)\n",
    "plt.xlabel(\"Avg Labour Participation Rate(%)\",fontsize=12)\n",
    "plt.ylabel(\"Region\",fontsize=12)\n",
    "sns.set(style= 'darkgrid')\n",
    "plt.show()"
   ]
  },
  {
   "cell_type": "markdown",
   "id": "faad954a-f1d5-4568-89b2-6a1e34c88537",
   "metadata": {},
   "source": [
    "* Tripura and Meghalaya had the highest average Labour Participation Rate more than 60 percent whereas, Uttarakhand and Kerala had lowest average Labour Participation Rate less than 35 percent."
   ]
  },
  {
   "cell_type": "markdown",
   "id": "9dbe105c",
   "metadata": {},
   "source": [
    "### 6.How did the Estimated Labour Participation Rate (%) change over the period?"
   ]
  },
  {
   "cell_type": "code",
   "execution_count": 43,
   "id": "f4261512",
   "metadata": {
    "collapsed": true,
    "jupyter": {
     "outputs_hidden": true
    },
    "tags": []
   },
   "outputs": [
    {
     "data": {
      "text/html": [
       "<div>\n",
       "<style scoped>\n",
       "    .dataframe tbody tr th:only-of-type {\n",
       "        vertical-align: middle;\n",
       "    }\n",
       "\n",
       "    .dataframe tbody tr th {\n",
       "        vertical-align: top;\n",
       "    }\n",
       "\n",
       "    .dataframe thead th {\n",
       "        text-align: right;\n",
       "    }\n",
       "</style>\n",
       "<table border=\"1\" class=\"dataframe\">\n",
       "  <thead>\n",
       "    <tr style=\"text-align: right;\">\n",
       "      <th></th>\n",
       "      <th>Month</th>\n",
       "      <th>Year</th>\n",
       "      <th>Est_labour_rate(%)</th>\n",
       "    </tr>\n",
       "  </thead>\n",
       "  <tbody>\n",
       "    <tr>\n",
       "      <th>0</th>\n",
       "      <td>Apr</td>\n",
       "      <td>2020</td>\n",
       "      <td>35.141176</td>\n",
       "    </tr>\n",
       "    <tr>\n",
       "      <th>1</th>\n",
       "      <td>Aug</td>\n",
       "      <td>2019</td>\n",
       "      <td>43.646792</td>\n",
       "    </tr>\n",
       "    <tr>\n",
       "      <th>2</th>\n",
       "      <td>Dec</td>\n",
       "      <td>2019</td>\n",
       "      <td>43.667358</td>\n",
       "    </tr>\n",
       "    <tr>\n",
       "      <th>3</th>\n",
       "      <td>Feb</td>\n",
       "      <td>2020</td>\n",
       "      <td>43.723019</td>\n",
       "    </tr>\n",
       "    <tr>\n",
       "      <th>4</th>\n",
       "      <td>Jan</td>\n",
       "      <td>2020</td>\n",
       "      <td>44.051321</td>\n",
       "    </tr>\n",
       "    <tr>\n",
       "      <th>5</th>\n",
       "      <td>July</td>\n",
       "      <td>2019</td>\n",
       "      <td>43.706667</td>\n",
       "    </tr>\n",
       "    <tr>\n",
       "      <th>6</th>\n",
       "      <td>Jun</td>\n",
       "      <td>2019</td>\n",
       "      <td>43.750556</td>\n",
       "    </tr>\n",
       "    <tr>\n",
       "      <th>7</th>\n",
       "      <td>Jun</td>\n",
       "      <td>2020</td>\n",
       "      <td>40.548400</td>\n",
       "    </tr>\n",
       "    <tr>\n",
       "      <th>8</th>\n",
       "      <td>Mar</td>\n",
       "      <td>2020</td>\n",
       "      <td>43.084038</td>\n",
       "    </tr>\n",
       "    <tr>\n",
       "      <th>9</th>\n",
       "      <td>May</td>\n",
       "      <td>2019</td>\n",
       "      <td>43.902963</td>\n",
       "    </tr>\n",
       "    <tr>\n",
       "      <th>10</th>\n",
       "      <td>May</td>\n",
       "      <td>2020</td>\n",
       "      <td>38.496863</td>\n",
       "    </tr>\n",
       "    <tr>\n",
       "      <th>11</th>\n",
       "      <td>Nov</td>\n",
       "      <td>2019</td>\n",
       "      <td>44.110545</td>\n",
       "    </tr>\n",
       "    <tr>\n",
       "      <th>12</th>\n",
       "      <td>Oct</td>\n",
       "      <td>2019</td>\n",
       "      <td>44.001273</td>\n",
       "    </tr>\n",
       "    <tr>\n",
       "      <th>13</th>\n",
       "      <td>Sep</td>\n",
       "      <td>2019</td>\n",
       "      <td>44.301346</td>\n",
       "    </tr>\n",
       "  </tbody>\n",
       "</table>\n",
       "</div>"
      ],
      "text/plain": [
       "   Month  Year  Est_labour_rate(%)\n",
       "0    Apr  2020           35.141176\n",
       "1    Aug  2019           43.646792\n",
       "2    Dec  2019           43.667358\n",
       "3    Feb  2020           43.723019\n",
       "4    Jan  2020           44.051321\n",
       "5   July  2019           43.706667\n",
       "6    Jun  2019           43.750556\n",
       "7    Jun  2020           40.548400\n",
       "8    Mar  2020           43.084038\n",
       "9    May  2019           43.902963\n",
       "10   May  2020           38.496863\n",
       "11   Nov  2019           44.110545\n",
       "12   Oct  2019           44.001273\n",
       "13   Sep  2019           44.301346"
      ]
     },
     "execution_count": 43,
     "metadata": {},
     "output_type": "execute_result"
    }
   ],
   "source": [
    "month_Est_labour_rate=df.groupby(['Month','Year'])['Est_labour_rate(%)'].mean().reset_index()\n",
    "month_Est_labour_rate"
   ]
  },
  {
   "cell_type": "code",
   "execution_count": 44,
   "id": "668ce987",
   "metadata": {},
   "outputs": [],
   "source": [
    "year_Est_labour_rate=df.groupby('Year')['Est_labour_rate(%)'].mean().reset_index()"
   ]
  },
  {
   "cell_type": "code",
   "execution_count": 45,
   "id": "4243ec26",
   "metadata": {},
   "outputs": [
    {
     "data": {
      "text/html": [
       "<div>\n",
       "<style scoped>\n",
       "    .dataframe tbody tr th:only-of-type {\n",
       "        vertical-align: middle;\n",
       "    }\n",
       "\n",
       "    .dataframe tbody tr th {\n",
       "        vertical-align: top;\n",
       "    }\n",
       "\n",
       "    .dataframe thead th {\n",
       "        text-align: right;\n",
       "    }\n",
       "</style>\n",
       "<table border=\"1\" class=\"dataframe\">\n",
       "  <thead>\n",
       "    <tr style=\"text-align: right;\">\n",
       "      <th></th>\n",
       "      <th>Year</th>\n",
       "      <th>Est_labour_rate(%)</th>\n",
       "    </tr>\n",
       "  </thead>\n",
       "  <tbody>\n",
       "    <tr>\n",
       "      <th>0</th>\n",
       "      <td>2019</td>\n",
       "      <td>43.88586</td>\n",
       "    </tr>\n",
       "    <tr>\n",
       "      <th>1</th>\n",
       "      <td>2020</td>\n",
       "      <td>40.88829</td>\n",
       "    </tr>\n",
       "  </tbody>\n",
       "</table>\n",
       "</div>"
      ],
      "text/plain": [
       "   Year  Est_labour_rate(%)\n",
       "0  2019            43.88586\n",
       "1  2020            40.88829"
      ]
     },
     "execution_count": 45,
     "metadata": {},
     "output_type": "execute_result"
    }
   ],
   "source": [
    "year_Est_labour_rate"
   ]
  },
  {
   "cell_type": "code",
   "execution_count": 46,
   "id": "b67d187d",
   "metadata": {},
   "outputs": [],
   "source": [
    "# Define the correct order for the months\n",
    "month_order = ['Jan', 'Feb', 'Mar', 'Apr', 'May', 'Jun', 'Jul', 'Aug', 'Sep', 'Oct', 'Nov', 'Dec']\n",
    "\n",
    "# Convert the Month column to a categorical type with the specified order\n",
    "month_Est_labour_rate['Month'] = pd.Categorical(month_Est_labour_rate['Month'], categories=month_order, ordered=True)\n",
    "\n",
    "# Sort the DataFrame by the Month column\n",
    "month_Est_labour_rate =month_Est_labour_rate.sort_values('Month')"
   ]
  },
  {
   "cell_type": "code",
   "execution_count": 47,
   "id": "a3d6b09c",
   "metadata": {},
   "outputs": [
    {
     "data": {
      "image/png": "[encoded data removed]",
      "text/plain": [
       "<Figure size 1300x400 with 2 Axes>"
      ]
     },
     "metadata": {},
     "output_type": "display_data"
    }
   ],
   "source": [
    "plt.figure(figsize=(13, 4))\n",
    "plt.subplot(1,2,1)\n",
    "sns.lineplot(x='Month',y='Est_labour_rate(%)',data=month_Est_labour_rate,hue='Year',palette=\"Set1\")\n",
    "plt.xlabel('Month',fontsize=12)\n",
    "plt.ylabel('Average labour participation rate (%)',fontsize=12)\n",
    "plt.title('Monthly labour participation rate in India during the Covid-19 period',fontsize=15)\n",
    "plt.subplot(1,2,2)\n",
    "sns.barplot(x='Year',y='Est_labour_rate(%)',data=year_Est_labour_rate,palette=\"plasma\")\n",
    "plt.xlabel('Year',fontsize=12)\n",
    "plt.ylabel('Average labour participation rate (%)',fontsize=12)\n",
    "plt.title('Yearly labour participation rate in India during the Covid-19 period',fontsize=15)\n",
    "plt.tight_layout()\n",
    "sns.set(style='white')\n",
    "plt.show()"
   ]
  },
  {
   "cell_type": "markdown",
   "id": "3b46a585-4f39-4b27-bd06-0aac798360fe",
   "metadata": {},
   "source": [
    "### Monthly Labour Participation Rate:\n",
    "* In 2019, the labor participation rate was Stable throughout the year.\n",
    "* There was a significant drop in the labor participation rate in April 2020 but The rate started to recover gradually from May 2020."
   ]
  },
  {
   "cell_type": "markdown",
   "id": "fa82f7b8-5c90-487e-b764-adf487510e13",
   "metadata": {},
   "source": [
    "## Yearly Labour Participation Rate:\n",
    "* In 2020  the average labour participation rate was lower than in 2019.\n",
    "* The Covid-19 pandemic had a noticeable impact on reducing the overall labour participation rate in 2020."
   ]
  },
  {
   "cell_type": "markdown",
   "id": "f37e1ce4",
   "metadata": {},
   "source": [
    "### 7.Are there any outliers or anomalies in the unemployment rate data that need further investigation?\n"
   ]
  },
  {
   "cell_type": "code",
   "execution_count": 48,
   "id": "f7bf6cb8",
   "metadata": {},
   "outputs": [
    {
     "data": {
      "image/png": "[encoded data removed]",
      "text/plain": [
       "<Figure size 640x480 with 1 Axes>"
      ]
     },
     "metadata": {},
     "output_type": "display_data"
    }
   ],
   "source": [
    "sns.boxplot(y='Est_Unemp_Rate(%)',data=df,color=\"yellow\")\n",
    "plt.title(\"outliers or anomalies in the unemployment rate\",fontsize=15)\n",
    "plt.ylabel(\"Unemployment Rate(%)\",fontsize=12)\n",
    "plt.show()"
   ]
  },
  {
   "cell_type": "markdown",
   "id": "76222c4b-4794-4b4b-bcd0-92a1ea3a4582",
   "metadata": {},
   "source": [
    "* Outliers: There are many points above the upper line indicating unusually high unemployment rates.\n",
    "* Normal Range: Most unemployment rates fall between 5% and 15%.\n",
    "* High Values: Values above 25% are outliers and may need further investigation."
   ]
  },
  {
   "cell_type": "markdown",
   "id": "84defbd9",
   "metadata": {},
   "source": [
    "### 8) How did the Estimated Employed figures change from May 2019 to June 2020?"
   ]
  },
  {
   "cell_type": "code",
   "execution_count": 49,
   "id": "8fb13013",
   "metadata": {
    "collapsed": true,
    "jupyter": {
     "outputs_hidden": true
    },
    "tags": []
   },
   "outputs": [
    {
     "data": {
      "text/html": [
       "<div>\n",
       "<style scoped>\n",
       "    .dataframe tbody tr th:only-of-type {\n",
       "        vertical-align: middle;\n",
       "    }\n",
       "\n",
       "    .dataframe tbody tr th {\n",
       "        vertical-align: top;\n",
       "    }\n",
       "\n",
       "    .dataframe thead th {\n",
       "        text-align: right;\n",
       "    }\n",
       "</style>\n",
       "<table border=\"1\" class=\"dataframe\">\n",
       "  <thead>\n",
       "    <tr style=\"text-align: right;\">\n",
       "      <th></th>\n",
       "      <th>Month</th>\n",
       "      <th>Year</th>\n",
       "      <th>Est_Emp</th>\n",
       "    </tr>\n",
       "  </thead>\n",
       "  <tbody>\n",
       "    <tr>\n",
       "      <th>0</th>\n",
       "      <td>Apr</td>\n",
       "      <td>2020</td>\n",
       "      <td>5.282549</td>\n",
       "    </tr>\n",
       "    <tr>\n",
       "      <th>1</th>\n",
       "      <td>Aug</td>\n",
       "      <td>2019</td>\n",
       "      <td>7.539811</td>\n",
       "    </tr>\n",
       "    <tr>\n",
       "      <th>2</th>\n",
       "      <td>Dec</td>\n",
       "      <td>2019</td>\n",
       "      <td>7.377925</td>\n",
       "    </tr>\n",
       "    <tr>\n",
       "      <th>3</th>\n",
       "      <td>Feb</td>\n",
       "      <td>2020</td>\n",
       "      <td>7.603019</td>\n",
       "    </tr>\n",
       "    <tr>\n",
       "      <th>4</th>\n",
       "      <td>Jan</td>\n",
       "      <td>2020</td>\n",
       "      <td>7.677736</td>\n",
       "    </tr>\n",
       "    <tr>\n",
       "      <th>5</th>\n",
       "      <td>July</td>\n",
       "      <td>2019</td>\n",
       "      <td>7.404815</td>\n",
       "    </tr>\n",
       "    <tr>\n",
       "      <th>6</th>\n",
       "      <td>Jun</td>\n",
       "      <td>2019</td>\n",
       "      <td>7.359074</td>\n",
       "    </tr>\n",
       "    <tr>\n",
       "      <th>7</th>\n",
       "      <td>Jun</td>\n",
       "      <td>2020</td>\n",
       "      <td>7.386600</td>\n",
       "    </tr>\n",
       "    <tr>\n",
       "      <th>8</th>\n",
       "      <td>Mar</td>\n",
       "      <td>2020</td>\n",
       "      <td>7.516538</td>\n",
       "    </tr>\n",
       "    <tr>\n",
       "      <th>9</th>\n",
       "      <td>May</td>\n",
       "      <td>2019</td>\n",
       "      <td>7.410370</td>\n",
       "    </tr>\n",
       "    <tr>\n",
       "      <th>10</th>\n",
       "      <td>May</td>\n",
       "      <td>2020</td>\n",
       "      <td>5.879608</td>\n",
       "    </tr>\n",
       "    <tr>\n",
       "      <th>11</th>\n",
       "      <td>Nov</td>\n",
       "      <td>2019</td>\n",
       "      <td>7.274000</td>\n",
       "    </tr>\n",
       "    <tr>\n",
       "      <th>12</th>\n",
       "      <td>Oct</td>\n",
       "      <td>2019</td>\n",
       "      <td>7.298000</td>\n",
       "    </tr>\n",
       "    <tr>\n",
       "      <th>13</th>\n",
       "      <td>Sep</td>\n",
       "      <td>2019</td>\n",
       "      <td>7.740192</td>\n",
       "    </tr>\n",
       "  </tbody>\n",
       "</table>\n",
       "</div>"
      ],
      "text/plain": [
       "   Month  Year   Est_Emp\n",
       "0    Apr  2020  5.282549\n",
       "1    Aug  2019  7.539811\n",
       "2    Dec  2019  7.377925\n",
       "3    Feb  2020  7.603019\n",
       "4    Jan  2020  7.677736\n",
       "5   July  2019  7.404815\n",
       "6    Jun  2019  7.359074\n",
       "7    Jun  2020  7.386600\n",
       "8    Mar  2020  7.516538\n",
       "9    May  2019  7.410370\n",
       "10   May  2020  5.879608\n",
       "11   Nov  2019  7.274000\n",
       "12   Oct  2019  7.298000\n",
       "13   Sep  2019  7.740192"
      ]
     },
     "execution_count": 49,
     "metadata": {},
     "output_type": "execute_result"
    }
   ],
   "source": [
    "avg_est_emp=df.groupby(['Month','Year'])['Est_Emp'].mean().reset_index()\n",
    "avg_est_emp"
   ]
  },
  {
   "cell_type": "code",
   "execution_count": 50,
   "id": "f79673aa",
   "metadata": {},
   "outputs": [],
   "source": [
    "# Define the correct order for the months\n",
    "month_order = ['Jan', 'Feb', 'Mar', 'Apr', 'May', 'Jun', 'Jul', 'Aug', 'Sep', 'Oct', 'Nov', 'Dec']\n",
    "\n",
    "# Convert the Month column to a categorical type with the specified order\n",
    "avg_est_emp['Month'] = pd.Categorical(avg_est_emp['Month'], categories=month_order, ordered=True)\n",
    "\n",
    "# Sort the DataFrame by the Month column\n",
    "avg_est_emp=avg_est_emp.sort_values('Month')"
   ]
  },
  {
   "cell_type": "code",
   "execution_count": 51,
   "id": "933bd5e6",
   "metadata": {},
   "outputs": [
    {
     "data": {
      "image/png": "[encoded data removed]",
      "text/plain": [
       "<Figure size 640x480 with 1 Axes>"
      ]
     },
     "metadata": {},
     "output_type": "display_data"
    }
   ],
   "source": [
    "sns.lineplot(x='Month',y='Est_Emp',data=avg_est_emp,hue='Year',palette=\"Set2\")\n",
    "plt.title(\"Estimated Employed figures from May 2019 to June 2020\",fontsize=15)\n",
    "plt.ylabel(\"Estimated Employed (Million)\",fontsize=12)\n",
    "plt.xlabel(\"Month\",fontsize=12)\n",
    "sns.set(style='white')\n",
    "plt.show()"
   ]
  },
  {
   "cell_type": "markdown",
   "id": "b926a137",
   "metadata": {},
   "source": [
    "* The employment rate for 2019 was flat, with a slight increase from May to June.\n",
    "* Employment declined sharply from March to April in 2020, possibly due to the COVID-19 pandemic.\n",
    "* Employment started to recover in May 2020 but did not reach the levels of 2019 by June 2020."
   ]
  },
  {
   "cell_type": "markdown",
   "id": "6c818384",
   "metadata": {},
   "source": [
    "### Recommendations for Future Pandemics\n",
    "* Emergency employment measures: Use emergency employment measures to help those who lose their jobs in the crisis.\n",
    "* Supporting high-risk areas: Provide additional support to states with historically higher unemployment rates.\n",
    "* Establishment of Urban Areas: Pay particular attention to urban employment, as these areas may be severely affected.\n",
    "* Maintaining employment engagement:Develop strategies to keep the labor participation rate stable, even during pandemics.\n",
    "* Monitor outsiders: Identify and address areas of very high unemployment to prevent long-term economic damage."
   ]
  }
 ],
 "metadata": {
  "kernelspec": {
   "display_name": "Python 3 (ipykernel)",
   "language": "python",
   "name": "python3"
  },
  "language_info": {
   "codemirror_mode": {
    "name": "ipython",
    "version": 3
   },
   "file_extension": ".py",
   "mimetype": "text/x-python",
   "name": "python",
   "nbconvert_exporter": "python",
   "pygments_lexer": "ipython3",
   "version": "3.10.9"
  }
 },
 "nbformat": 4,
 "nbformat_minor": 5
}
